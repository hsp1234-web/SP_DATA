{
  "nbformat": 4,
  "nbformat_minor": 2,
  "metadata": {
    "colab": {
      "provenance": []
    },
    "kernelspec": {
      "name": "python3",
      "display_name": "Python 3"
    },
    "language_info": {
      "name": "python"
    }
  },
  "cells": [
    {
      "cell_type": "markdown",
      "source": [
        "# 數據整合平台 v15 - 一鍵啟動腳本\n",
        "\n",
        "本腳本將會自動化所有環境設定，讓您能在 Google Colab 中快速啟動數據整合平台。\n",
        "\n",
        "---\n",
        "### 更新日誌\n",
        "* **v1.0.0 (2025-06-19):**\n",
        "    * 建立整合式啟動腳本。\n",
        "    * 新增 Colab 表單參數化功能。"
      ],
      "metadata": {
        "id": "view-in-github"
      }
    },
    {
      "cell_type": "code",
      "execution_count": null,
      "metadata": {
        "id": "main-execution-cell",
        "colab": {},
        "title": "步驟一：設定參數與執行"
      },
      "outputs": [],
      "source": [
        "#@markdown ## 參數設定\n",
        "#@markdown 請在下方輸入您的專案資料夾名稱，然後點擊 ▶️ 執行此儲存格。\n",
        "\n",
        "project_folder = \"MyTaifexDataProject\" #@param {type:\"string\"}\n",
        "\n",
        "#@markdown --- \n",
        "#@markdown ## 執行主要程式\n",
        "#@markdown 確認參數後，下方的程式碼會自動完成所有工作。\n",
        "\n",
        "# --- 環境設定 ---\n",
        "import warnings\n",
        "import os\n",
        "warnings.filterwarnings('ignore')\n",
        "print(f\"✅ 參數設定完成！專案資料夾將被設定為：{project_folder}\")\n",
        "\n",
        "# --- 掛載 Google Drive ---\n",
        "try:\n",
        "    from google.colab import drive\n",
        "    print(\"\\n⏳ 正在請求掛載 Google Drive...\")\n",
        "    drive.mount('/content/drive')\n",
        "    print(\"✅ Google Drive 掛載成功！\")\n",
        "except ImportError:\n",
        "    print(\"非 Colab 環境，跳過掛載 Drive。\")\n",
        "\n",
        "# --- 下載最新專案 ---\n",
        "print(\"\\n⏳ 正在從 GitHub 下載最新專案...\")\n",
        "!git clone -q https://github.com/hsp1234-web/taifexd-date.git\n",
        "project_path = \"/content/taifexd-date/data_pipeline_v15\"\n",
        "os.chdir(project_path)\n",
        "print(\"✅ 專案下載完成！\")\n",
        "\n",
        "# --- 安裝相依套件 ---\n",
        "print(\"\\n⏳ 正在安裝必要的 Python 套件...\")\n",
        "!pip install -q pandas duckdb\n",
        "print(\"✅ 套件安裝完成！\")\n",
        "\n",
        "# --- 執行數據管道主程式 ---\n",
        "print(\"\\n🚀 即將啟動數據整合平台...\")\n",
        "print(\"-\" * 20)\n",
        "!python main.py --project-folder-name={project_folder}\n",
        "print(\"-\" * 20)\n",
        "print(\"🎉 執行完畢！\")"
      ]
    }
  ]
}
