{
 "cells": [
  {
   "cell_type": "markdown",
   "metadata": {},
   "source": [
    "## 數據整合平台 v15 - 穩定版執行器\n",
    "這個筆記本是執行數據整合平台的官方、穩定入口。\n",
    "**核心優勢**：使用 `Poetry` 來安裝 `pyproject.toml` 中鎖定版本的依賴，並透過 `git clone` 自動獲取最新程式碼，徹底解決因環境不一致或手動設定錯誤導致的執行失敗問題。"
   ]
  },
  {
   "cell_type": "code",
   "execution_count": null,
   "metadata": {
    "colab": {
     "forms": {
      " বিড়াল ": " และ ",
      "test": "你好"
     }
    }
   },
   "outputs": [],
   "source": [
    "#@markdown ## 執行參數設定\n",
    "#@markdown 請在下方輸入您的執行參數，若不修改則使用預設值。\n",
    "project_folder = \"MyTaifexDataProject\" #@param {type:\"string\"}\n",
    "database_name = \"processed_data.duckdb\" #@param {type:\"string\"}\n",
    "log_name = \"pipeline.log\" #@param {type:\"string\"}\n",
    "target_zip_files = \"\" #@param {type:\"string\"}\n",
    "#@markdown *若要指定多個ZIP檔，請用逗號分隔，例如 `file1.zip,file2.zip`。留空則代表處理全部。*\n",
    "\n",
    "print(\"--- 參數確認 ---\")\n",
    "print(f\"專案資料夾: {project_folder}\")\n",
    "print(f\"輸出資料庫: {database_name}\")\n",
    "print(f\"輸出日誌檔: {log_name}\")\n",
    "print(f\"指定ZIP檔: {'全部' if not target_zip_files else target_zip_files}\")\n",
    "print(\"--------------------\\n\")\n",
    "\n",
    "# ======================================================================\n",
    "#                      穩健執行區 (單一儲存格)\n",
    "# ======================================================================\n",
    "import os\n",
    "import sys\n",
    "from google.colab import drive\n",
    "\n",
    "# 步驟 1: 掛載 Google Drive\n",
    "try:\n",
    "    print(\"⏳ 正在請求掛載 Google Drive...\")\n",
    "    drive.mount('/content/drive', force_remount=True)\n",
    "    print(\"✅ Google Drive 掛載成功！\")\n",
    "except Exception as e:\n",
    "    print(f\"❌ Google Drive 掛載失敗: {e}\")\n",
    "    sys.exit(\"請檢查您的 Drive 授權設定。\")\n",
    "\n",
    "# 步驟 2: 下載/更新專案程式碼 (*** 已修正此區塊 ***)\n",
    "print(\"\\n⏳ 正在準備專案程式碼...\")\n",
    "REPO_PATH = '/content/taifexd-date'\n",
    "# *** 使用正確的 GitHub Repo 網址 ***\n",
    "REPO_URL = 'https://github.com/hsp1234-web/taifexd-date.git'\n",
    "\n",
    "# 判斷是更新 (pull) 還是全新下載 (clone)\n",
    "if os.path.exists(REPO_PATH):\n",
    "    print(f\"  - 找到現有目錄，執行 git pull 更新...\")\n",
    "    os.chdir(REPO_PATH)\n",
    "    !git pull\n",
    "else:\n",
    "    print(f\"  - 執行 git clone 下載專案...\")\n",
    "    !git clone -q {REPO_URL} {REPO_PATH}\n",
    "\n",
    "# *** 修正：直接進入專案的根目錄 ***\n",
    "# 因為 main.py 和 pyproject.toml 都在根目錄\n",
    "os.chdir(REPO_PATH)\n",
    "print(f\"✅ 專案程式碼準備完成！目前工作目錄: {os.getcwd()}\\n\")\n",
    "\n",
    "# 步驟 3: 安裝與設定 Poetry (核心穩定性步驟)\n",
    "print(\"\\n⏳ 正在設定 Poetry 並安裝精確的依賴版本...\")\n",
    "# 安裝 Poetry 並執行 install，它會讀取 pyproject.toml 來安裝依賴\n",
    "!pip install poetry -q\n",
    "!poetry install --no-root --no-dev\n",
    "print(\"✅ 所有精確版本的 Python 套件均已安裝完成！\\n\")\n",
    "\n",
    "# 步驟 4: 建構並執行指令\n",
    "print(\"\\n🚀 即將啟動數據整合平台...\")\n",
    "# poetry run 會自動使用此虛擬環境來執行 main.py\n",
    "command = (\n",
    "    f\"poetry run python main.py \"\n",
    "    f\"--project-folder-name='{project_folder}' \"\n",
    "    f\"--database-name='{database_name}' \"\n",
    "    f\"--log-name='{log_name}' \"\n",
    "    f\"--zip-files='{target_zip_files}'\"\n",
    ")\n",
    "\n",
    "print(f\"  - 將執行的最終指令:\")\n",
    "print(f\"    {command}\")\n",
    "print(\"-\" * 20)\n",
    "\n",
    "!{command}\n",
    "\n",
    "print(\"-\" * 20)\n",
    "print(\"🎉 執行完畢！\")\n",
    "print(f\"ℹ️  請檢查您的 Google Drive/{project_folder} 資料夾以確認產出檔案。\")"
   ]
  }
 ],
 "metadata": {
  "colab": {
   "provenance": []
  },
  "kernelspec": {
   "display_name": "Python 3",
   "name": "python3"
  },
  "language_info": {
   "name": "python"
  }
 },
 "nbformat": 4,
 "nbformat_minor": 0
}
